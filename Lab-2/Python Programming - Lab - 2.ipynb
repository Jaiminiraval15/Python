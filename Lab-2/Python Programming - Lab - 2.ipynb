{
 "cells": [
  {
   "cell_type": "markdown",
   "metadata": {},
   "source": [
    "\n",
    "<a href='https://www.darshan.ac.in/'> <img src='https://www.darshan.ac.in/Content/media/DU_Logo.svg' width=\"250\" height=\"300\"/></a>\n",
    "<pre>\n",
    "<center><b><h1>Python Programming - 2101CS405</b></center>\n",
    "<center><b><h1>Lab - 2</b></center>    \n",
    "<pre>"
   ]
  },
  {
   "cell_type": "markdown",
   "metadata": {},
   "source": [
    "# if..else.."
   ]
  },
  {
   "cell_type": "markdown",
   "metadata": {},
   "source": [
    "### 01) WAP to check whether the given number is positive or negative."
   ]
  },
  {
   "cell_type": "code",
   "execution_count": 2,
   "metadata": {},
   "outputs": [
    {
     "name": "stdout",
     "output_type": "stream",
     "text": [
      "Enter a number: 4\n",
      "4 is Positive\n"
     ]
    }
   ],
   "source": [
    "n=int(input(\"Enter a number: \"))\n",
    "if n<0:\n",
    "     print(str(n)+\" is Negative\")\n",
    "else:\n",
    "    print(str(n)+\" is Positive\")"
   ]
  },
  {
   "cell_type": "markdown",
   "metadata": {},
   "source": [
    "### 02) WAP to check whether the given number is odd or even"
   ]
  },
  {
   "cell_type": "code",
   "execution_count": 3,
   "metadata": {},
   "outputs": [
    {
     "name": "stdout",
     "output_type": "stream",
     "text": [
      "Enter a number: 5\n",
      "5 is Odd\n"
     ]
    }
   ],
   "source": [
    "n=int(input(\"Enter a number: \"))\n",
    "if (n%2)==0:\n",
    "    print(str(n)+\" is Even\")\n",
    "else:\n",
    "    print(str(n)+\" is Odd\")"
   ]
  },
  {
   "cell_type": "markdown",
   "metadata": {},
   "source": [
    "### 03) WAP to find out largest number from given two numbers using simple if and ternary operator."
   ]
  },
  {
   "cell_type": "code",
   "execution_count": 4,
   "metadata": {},
   "outputs": [
    {
     "name": "stdout",
     "output_type": "stream",
     "text": [
      "Enter first number: 5\n",
      "Enter second number: 6\n",
      "6 is largest\n"
     ]
    }
   ],
   "source": [
    "a=int(input(\"Enter first number: \"))\n",
    "b=int(input(\"Enter second number: \"))\n",
    "max= a if a>b else b\n",
    "print(str(max)+\" is largest\")"
   ]
  },
  {
   "cell_type": "markdown",
   "metadata": {},
   "source": [
    "### 04) WAP to find out largest number from given three numbers."
   ]
  },
  {
   "cell_type": "code",
   "execution_count": 7,
   "metadata": {},
   "outputs": [
    {
     "name": "stdout",
     "output_type": "stream",
     "text": [
      "Enter first number: 1\n",
      "Enter second number: 8\n",
      "Enter third number: 9\n",
      "9 is largest\n"
     ]
    }
   ],
   "source": [
    "a=int(input(\"Enter first number: \"))\n",
    "b=int(input(\"Enter second number: \"))\n",
    "c=int(input(\"Enter third number: \"))\n",
    "if a>b:\n",
    "    if a>c:\n",
    "        print(str(a)+\" is largest\")\n",
    "else:\n",
    "    if b<c:\n",
    "        print(str(c)+\" is largest\")\n",
    "    else:\n",
    "        print(str(b)+\" is largest\")"
   ]
  },
  {
   "cell_type": "markdown",
   "metadata": {},
   "source": [
    "### 05) WAP to check whether the given year is leap year or not.\n",
    "[If a year can be divisible by 4 but not divisible by 100 then it is leap year but if it is divisible by 400 then it is leap year]"
   ]
  },
  {
   "cell_type": "code",
   "execution_count": 11,
   "metadata": {},
   "outputs": [
    {
     "name": "stdout",
     "output_type": "stream",
     "text": [
      "Enter a year: 2003\n",
      "2003 is not a Leap Year\n"
     ]
    }
   ],
   "source": [
    "year=int(input(\"Enter a year: \"))\n",
    "if year%4==0:\n",
    "    if year%100!=0:\n",
    "        print(str(year)+\" is a Leap Year\")\n",
    "    else:\n",
    "        print(str(year)+\" is not a Leap Year\")\n",
    "elif year%400==0:\n",
    "    print(str(year)+\" is a Leap Year\")\n",
    "else:\n",
    "    print(str(year)+\" is not a Leap Year\")"
   ]
  },
  {
   "cell_type": "markdown",
   "metadata": {},
   "source": [
    "### 06) WAP in python to display the name of the day according to the number given by the user"
   ]
  },
  {
   "cell_type": "code",
   "execution_count": 14,
   "metadata": {},
   "outputs": [
    {
     "name": "stdout",
     "output_type": "stream",
     "text": [
      "Enter number: 4\n",
      "Thursday\n"
     ]
    }
   ],
   "source": [
    "n=int(input(\"Enter number: \"))\n",
    "if n==1:\n",
    "    print(\"Monday\")\n",
    "elif n==2:\n",
    "    print(\"Tuesday\")\n",
    "elif n==3:\n",
    "    print(\"Wednesday\")\n",
    "elif n==4:\n",
    "    print(\"Thursday\")\n",
    "elif n==5:\n",
    "    print(\"Friday\")\n",
    "elif n==6:\n",
    "    print(\"Saturday\")\n",
    "elif n==7:\n",
    "    print(\"Sunday\")\n",
    "else:\n",
    "    print(\"Invalid\")"
   ]
  },
  {
   "cell_type": "markdown",
   "metadata": {},
   "source": [
    "### 07) WAP to implement simple calculator which performs (add,sub,mul,div) of two no. based on user input."
   ]
  },
  {
   "cell_type": "code",
   "execution_count": 18,
   "metadata": {},
   "outputs": [
    {
     "name": "stdout",
     "output_type": "stream",
     "text": [
      "Enter first number: 4\n",
      "Enter second number: 6\n",
      "Enter operation(+,-,/,*): *\n",
      "Multiplication is 24\n"
     ]
    }
   ],
   "source": [
    "a=int(input(\"Enter first number: \"))\n",
    "b=int(input(\"Enter second number: \"))\n",
    "op=input(\"Enter operation(+,-,/,*): \")\n",
    "if op=='+':\n",
    "    print(\"Addition is \"+str(a+b))\n",
    "elif op=='-':\n",
    "    print(\"Subtraction is \"+str(a-b))\n",
    "elif op=='*':\n",
    "    print(\"Multiplication is \"+str(a*b))\n",
    "elif op=='/':\n",
    "    print(\"Division is \"+str(a/b))\n",
    "else:\n",
    "    print(\"Invalid\")"
   ]
  },
  {
   "cell_type": "markdown",
   "metadata": {},
   "source": [
    "### 08) WAP to calculate electricity bill based on following criteria. Which takes the unit from the user.\n",
    "a. First 1 to 50 units – Rs. 2.60/unit</br>\n",
    "b. Next 50 to 100 units – Rs. 3.25/unit</br>\n",
    "c. Next 100 to 200 units – Rs. 5.26/unit</br>\n",
    "d. above 200 units – Rs. 8.45/unit"
   ]
  },
  {
   "cell_type": "code",
   "execution_count": 2,
   "metadata": {},
   "outputs": [
    {
     "name": "stdout",
     "output_type": "stream",
     "text": [
      "Enter number of units: 140\n",
      "\n",
      "Electricity Bill = 547.90\n"
     ]
    }
   ],
   "source": [
    "units=int(input(\"Enter number of units: \"))\n",
    "if(units < 50):\n",
    "    amount = units * 2.60\n",
    "    surcharge = 25\n",
    "elif(units <= 100):\n",
    "    amount = 130 + ((units - 50) * 3.25)\n",
    "    surcharge = 35\n",
    "elif(units <= 200):\n",
    "    amount = 130 + 162.50 + ((units - 100) * 5.26)\n",
    "    surcharge = 45\n",
    "else:\n",
    "    amount = 130 + 162.50 + 526 + ((units - 200) * 8.45)\n",
    "    surcharge = 75\n",
    "total = amount + surcharge\n",
    "print(\"\\nElectricity Bill = %.2f\"  %total)"
   ]
  },
  {
   "cell_type": "markdown",
   "metadata": {},
   "source": [
    "### 01) WAP to read marks of five subjects. Calculate percentage and print class accordingly. \n",
    "Fail below 35 </br>\n",
    "Pass Class between 35 to 45 </br>\n",
    "Second Class</br>\n",
    "between 45 to 60</br>\n",
    "First Class between 60 to 70</br> \n",
    "Distinction if more than 70"
   ]
  },
  {
   "cell_type": "code",
   "execution_count": 23,
   "metadata": {},
   "outputs": [
    {
     "name": "stdout",
     "output_type": "stream",
     "text": [
      "Enter marks of subject 1: 85\n",
      "Enter marks of subject 2: 90\n",
      "Enter marks of subject 3: 75\n",
      "Enter marks of subject 4: 70\n",
      "Enter marks of subject 5: 80\n",
      "Total marks are: 400\n",
      "Percentage score:  80.0\n",
      "Distinction\n"
     ]
    }
   ],
   "source": [
    "sub1=int(input(\"Enter marks of subject 1: \"))\n",
    "sub2=int(input(\"Enter marks of subject 2: \"))\n",
    "sub3=int(input(\"Enter marks of subject 3: \"))\n",
    "sub4=int(input(\"Enter marks of subject 4: \"))\n",
    "sub5=int(input(\"Enter marks of subject 5: \"))\n",
    "pr=(sub1+sub2+sub3+sub4+sub5)/5\n",
    "print(\"Total marks are: \"+str(sub1+sub2+sub3+sub4+sub5))\n",
    "print(\"Percentage score: \",pr)\n",
    "if pr>70:\n",
    "    print(\"Distinction\")\n",
    "elif 60<pr<=70:\n",
    "    print(\"First Class\")\n",
    "elif 45<pr<=60:\n",
    "    print(\"Second Class\")\n",
    "elif 35<=pr<=45:\n",
    "    print(\"Pass\")\n",
    "elif pr<35:\n",
    "    print(\"Fail\")"
   ]
  },
  {
   "cell_type": "markdown",
   "metadata": {},
   "source": [
    "### 02) WAP to find out the Maximum and Minimum number from given 4 numbers."
   ]
  },
  {
   "cell_type": "code",
   "execution_count": 24,
   "metadata": {},
   "outputs": [
    {
     "name": "stdout",
     "output_type": "stream",
     "text": [
      "Enter number: 4\n",
      "Enter number: 5\n",
      "Enter number: 8\n",
      "Enter number: 2\n",
      "8 is maximum\n",
      "2 is minimum\n"
     ]
    }
   ],
   "source": [
    "a=int(input('Enter number: '))\n",
    "b=int(input('Enter number: '))\n",
    "c=int(input('Enter number: '))\n",
    "d=int(input('Enter number: '))\n",
    "if a>b and a>c and a>d:\n",
    "    print(a, \"is maximum\")\n",
    "elif b>a and b>c and b>d:\n",
    "    print(b,\"is maximum\")\n",
    "elif c>a and c>b and c>d:\n",
    "    print(c,\"is maximum\")\n",
    "elif d>a and d>b and d>c:\n",
    "    print(d,\"is maximum\")\n",
    "if a<b and a<c and a<d:\n",
    "    print(a, \"is minimum\")\n",
    "elif b<a and b<c and b<d:\n",
    "    print(b,\"is minimum\")\n",
    "elif c<a and c<b and c<d:\n",
    "    print(c,\"is minimum\")\n",
    "elif d<a and d<b and d<c:\n",
    "    print(d,\"is minimum\")"
   ]
  },
  {
   "cell_type": "markdown",
   "metadata": {},
   "source": [
    "### 03) WAP to input an integer number and check the last digit of number is even or odd."
   ]
  },
  {
   "cell_type": "code",
   "execution_count": 26,
   "metadata": {},
   "outputs": [
    {
     "name": "stdout",
     "output_type": "stream",
     "text": [
      "Enter a number: 230\n",
      "230 is Even\n"
     ]
    }
   ],
   "source": [
    "n=int(input(\"Enter a number: \"))\n",
    "last=n%10\n",
    "if last%2==0:\n",
    "    print(n,\"is Even\")\n",
    "else:\n",
    "    print(n,\"is Odd\")"
   ]
  },
  {
   "cell_type": "markdown",
   "metadata": {},
   "source": [
    "### 04) WAP to determine the roots of the equation ax2+bx+c=0."
   ]
  },
  {
   "cell_type": "code",
   "execution_count": 10,
   "metadata": {},
   "outputs": [
    {
     "name": "stdout",
     "output_type": "stream",
     "text": [
      "Enter a: 3\n",
      "Enter b: 6\n",
      "Enter c: 2\n",
      "Real roots\n",
      "-15.0\n",
      "3.0\n"
     ]
    }
   ],
   "source": [
    "a=int(input(\"Enter a: \"))\n",
    "b=int(input(\"Enter b: \"))\n",
    "c=int(input(\"Enter c: \"))\n",
    "d=b**2-4*a*c;\n",
    "if d==0:\n",
    "    print(\"Equal roots\")\n",
    "    print(-b/2*a)\n",
    "elif(d>0):\n",
    "    print(\"Real roots\")\n",
    "    print(-b-(d**1/2)/2*a)\n",
    "    print(-b+(d**1/2)/2*a)\n",
    "elif(d<0):\n",
    "    print(\"Imaginary roots\")\n",
    "    "
   ]
  }
 ],
 "metadata": {
  "kernelspec": {
   "display_name": "Python 3 (ipykernel)",
   "language": "python",
   "name": "python3"
  },
  "language_info": {
   "codemirror_mode": {
    "name": "ipython",
    "version": 3
   },
   "file_extension": ".py",
   "mimetype": "text/x-python",
   "name": "python",
   "nbconvert_exporter": "python",
   "pygments_lexer": "ipython3",
   "version": "3.9.13"
  }
 },
 "nbformat": 4,
 "nbformat_minor": 4
}
