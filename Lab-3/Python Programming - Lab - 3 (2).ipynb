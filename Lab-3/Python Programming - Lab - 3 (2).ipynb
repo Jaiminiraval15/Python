{
 "cells": [
  {
   "cell_type": "markdown",
   "metadata": {},
   "source": [
    "\n",
    "<a href='https://www.darshan.ac.in/'> <img src='https://www.darshan.ac.in/Content/media/DU_Logo.svg' width=\"250\" height=\"300\"/></a>\n",
    "<pre>\n",
    "<center><b><h1>Python Programming - 2101CS405</b></center>\n",
    "<center><b><h1>Lab - 3</b></center>    \n",
    "<pre>"
   ]
  },
  {
   "cell_type": "markdown",
   "metadata": {},
   "source": [
    "# for and while loop"
   ]
  },
  {
   "cell_type": "markdown",
   "metadata": {},
   "source": [
    "### 01) WAP to print 1 to 10"
   ]
  },
  {
   "cell_type": "code",
   "execution_count": 4,
   "metadata": {},
   "outputs": [
    {
     "name": "stdout",
     "output_type": "stream",
     "text": [
      "1\n",
      "2\n",
      "3\n",
      "4\n",
      "5\n",
      "6\n",
      "7\n",
      "8\n",
      "9\n",
      "10\n"
     ]
    }
   ],
   "source": [
    "for i in range(1,11):\n",
    " print(i)"
   ]
  },
  {
   "cell_type": "markdown",
   "metadata": {},
   "source": [
    "### 02) WAP to print 1 to n"
   ]
  },
  {
   "cell_type": "code",
   "execution_count": 6,
   "metadata": {},
   "outputs": [
    {
     "name": "stdout",
     "output_type": "stream",
     "text": [
      "Enter n: 5\n",
      "1\n",
      "2\n",
      "3\n",
      "4\n",
      "5\n"
     ]
    }
   ],
   "source": [
    "n=int(input(\"Enter n: \"))\n",
    "for i in range(1,n+1):\n",
    "    print(i)"
   ]
  },
  {
   "cell_type": "markdown",
   "metadata": {},
   "source": [
    "### 03) WAP to print odd numbers between 1 to n"
   ]
  },
  {
   "cell_type": "code",
   "execution_count": 14,
   "metadata": {},
   "outputs": [
    {
     "name": "stdout",
     "output_type": "stream",
     "text": [
      "Enter n: 6\n",
      "1\n",
      "3\n",
      "5\n"
     ]
    }
   ],
   "source": [
    "n=int(input(\"Enter n: \"))\n",
    "for i in range(1,n):\n",
    "    if(i%2!=0):\n",
    "        print(i)"
   ]
  },
  {
   "cell_type": "markdown",
   "metadata": {},
   "source": [
    "### 04) WAP to print numbers between two given numbers which is divisible by 2 but not divisible by 3"
   ]
  },
  {
   "cell_type": "code",
   "execution_count": 24,
   "metadata": {},
   "outputs": [
    {
     "name": "stdout",
     "output_type": "stream",
     "text": [
      "Enter n1: 3\n",
      "Enter n2: 8\n",
      "4\n",
      "8\n"
     ]
    }
   ],
   "source": [
    "n1=int(input(\"Enter n1: \"))\n",
    "n2=int(input(\"Enter n2: \"))\n",
    "if n1>n2:\n",
    "    max=n1\n",
    "    min=n2\n",
    "else:\n",
    "    max=n2\n",
    "    min=n1 \n",
    "for i in range(min,max+1):\n",
    "    if(i%2==0 and i%3!=0):\n",
    "        print(i) "
   ]
  },
  {
   "cell_type": "markdown",
   "metadata": {},
   "source": [
    "### 05) WAP to print sum of 1 to n numbers"
   ]
  },
  {
   "cell_type": "code",
   "execution_count": 29,
   "metadata": {},
   "outputs": [
    {
     "name": "stdout",
     "output_type": "stream",
     "text": [
      "Enter n: 5\n",
      "15\n"
     ]
    }
   ],
   "source": [
    "n=int(input(\"Enter n: \"))\n",
    "sum=0\n",
    "for i in range(1,n+1):\n",
    "    sum=sum+i\n",
    "print(sum)\n",
    "    "
   ]
  },
  {
   "cell_type": "markdown",
   "metadata": {},
   "source": [
    "### 06) WAP to print sum of series 1 + 4 + 9 + 16 + 25 + 36 + ...n"
   ]
  },
  {
   "cell_type": "code",
   "execution_count": 35,
   "metadata": {},
   "outputs": [
    {
     "name": "stdout",
     "output_type": "stream",
     "text": [
      "Enter n: 3\n",
      "14\n"
     ]
    }
   ],
   "source": [
    "n=int(input(\"Enter n: \"))\n",
    "sum=0\n",
    "for i in range(1,n+1):\n",
    "    sum=sum+i*i\n",
    "print(sum)"
   ]
  },
  {
   "cell_type": "markdown",
   "metadata": {},
   "source": [
    "### 07) WAP to print sum of series 1 – 2 + 3 – 4 + 5 – 6 + 7 ... n"
   ]
  },
  {
   "cell_type": "code",
   "execution_count": 37,
   "metadata": {},
   "outputs": [
    {
     "name": "stdout",
     "output_type": "stream",
     "text": [
      "Enter n: 3\n",
      "2\n"
     ]
    }
   ],
   "source": [
    "n=int(input(\"Enter n: \"))\n",
    "sum=0\n",
    "for i in range(1,n+1):\n",
    "    if(i%2!=0):\n",
    "        sum=sum+i\n",
    "    else:\n",
    "        sum=sum-i\n",
    "print(sum)"
   ]
  },
  {
   "cell_type": "markdown",
   "metadata": {},
   "source": [
    "### 08) WAP to print multiplication table of given number."
   ]
  },
  {
   "cell_type": "code",
   "execution_count": 45,
   "metadata": {},
   "outputs": [
    {
     "name": "stdout",
     "output_type": "stream",
     "text": [
      "Enter n: 4\n",
      "4*1=4\n",
      "4*2=8\n",
      "4*3=12\n",
      "4*4=16\n"
     ]
    }
   ],
   "source": [
    "n=int(input(\"Enter n: \"))\n",
    "for i in range(1,n+1):\n",
    "    print(str(n) +\"*\"+ str(i) + \"=\"+ str(n*i))"
   ]
  },
  {
   "cell_type": "markdown",
   "metadata": {},
   "source": [
    "### 09) WAP to find factorial of the given number"
   ]
  },
  {
   "cell_type": "code",
   "execution_count": 47,
   "metadata": {},
   "outputs": [
    {
     "name": "stdout",
     "output_type": "stream",
     "text": [
      "Enter n: 5\n",
      "120\n"
     ]
    }
   ],
   "source": [
    "n=int(input(\"Enter n: \"))\n",
    "fact=1\n",
    "for i in range(1,n+1):\n",
    "    fact=fact*i\n",
    "print(fact)"
   ]
  },
  {
   "cell_type": "markdown",
   "metadata": {},
   "source": [
    "### 10) WAP to find factors of the given number"
   ]
  },
  {
   "cell_type": "code",
   "execution_count": 49,
   "metadata": {},
   "outputs": [
    {
     "name": "stdout",
     "output_type": "stream",
     "text": [
      "Enter n: 6\n",
      "1\n",
      "2\n",
      "3\n",
      "6\n"
     ]
    }
   ],
   "source": [
    "n=int(input(\"Enter n: \"))\n",
    "for i in range(1,n+1):\n",
    "    if(n%i==0):\n",
    "        print(i)"
   ]
  },
  {
   "cell_type": "markdown",
   "metadata": {},
   "source": [
    "### 11) WAP to find whether the given number is prime or not."
   ]
  },
  {
   "cell_type": "code",
   "execution_count": 65,
   "metadata": {},
   "outputs": [
    {
     "name": "stdout",
     "output_type": "stream",
     "text": [
      "Enter n: 3\n",
      "Prime\n"
     ]
    }
   ],
   "source": [
    "n=int(input(\"Enter n: \"))\n",
    "flag=0\n",
    "for i in range(2,n):\n",
    "    if(n%i==0):\n",
    "        flag=1\n",
    "if flag==1:\n",
    "    print(\"Not Prime\")\n",
    "else:\n",
    "    print(\"Prime\")"
   ]
  },
  {
   "cell_type": "markdown",
   "metadata": {},
   "source": [
    "### 12) WAP to print sum of digits of given number"
   ]
  },
  {
   "cell_type": "code",
   "execution_count": 78,
   "metadata": {},
   "outputs": [
    {
     "name": "stdout",
     "output_type": "stream",
     "text": [
      "Enter n: 123\n",
      "6\n"
     ]
    }
   ],
   "source": [
    "n=int(input(\"Enter n: \"))\n",
    "sum=0\n",
    "while(n>0):\n",
    "    temp=n%10\n",
    "    sum=sum+temp\n",
    "    n=n//10\n",
    "print(sum)"
   ]
  },
  {
   "cell_type": "markdown",
   "metadata": {},
   "source": [
    "### 13) WAP to check whether the given number is palindrome or not"
   ]
  },
  {
   "cell_type": "code",
   "execution_count": 81,
   "metadata": {},
   "outputs": [
    {
     "name": "stdout",
     "output_type": "stream",
     "text": [
      "Enter n: 121\n",
      "Palindrome\n"
     ]
    }
   ],
   "source": [
    "n=int(input(\"Enter n: \"))\n",
    "rev=0\n",
    "n1=n\n",
    "temp=n\n",
    "while(n>0):\n",
    "    temp=n%10\n",
    "    rev=rev*10+temp\n",
    "    n=n//10\n",
    "if(rev==n1):\n",
    "    print(\"Palindrome\")\n",
    "else:\n",
    "    print(\"Not Palindrome\")"
   ]
  },
  {
   "cell_type": "markdown",
   "metadata": {},
   "source": [
    "### 01) WAP to check whether the given number is Armstrong or not."
   ]
  },
  {
   "cell_type": "code",
   "execution_count": 96,
   "metadata": {},
   "outputs": [
    {
     "name": "stdout",
     "output_type": "stream",
     "text": [
      "Enter n: 153\n",
      "Armstrong\n"
     ]
    }
   ],
   "source": [
    "n=int(input(\"Enter n: \"))\n",
    "sum=0\n",
    "temp=n\n",
    "while(temp>0):\n",
    "    n1=temp%10\n",
    "    sum=sum+n1**3\n",
    "    temp=temp//10\n",
    "if sum==n:\n",
    "    print(\"Armstrong\")\n",
    "else:\n",
    "    print(\"Not Armstrong\")\n",
    "    "
   ]
  },
  {
   "cell_type": "markdown",
   "metadata": {},
   "source": [
    "### 02) WAP to find out prime numbers between given two numbers."
   ]
  },
  {
   "cell_type": "code",
   "execution_count": 3,
   "metadata": {},
   "outputs": [
    {
     "name": "stdout",
     "output_type": "stream",
     "text": [
      "Enter n1: 1\n",
      "Enter n2: 7\n",
      "2\n",
      "3\n",
      "5\n",
      "7\n"
     ]
    }
   ],
   "source": [
    "n1=int(input(\"Enter n1: \"))\n",
    "n2=int(input(\"Enter n2: \"))\n",
    "for i in range(n1,n2+1):\n",
    "    if i>1:\n",
    "        for j in range(2,i):\n",
    "            if i%j==0:\n",
    "                break\n",
    "        else:\n",
    "            print(i)"
   ]
  },
  {
   "cell_type": "markdown",
   "metadata": {},
   "source": [
    "### 03) WAP to calculate x^y without using any function."
   ]
  },
  {
   "cell_type": "code",
   "execution_count": 2,
   "metadata": {},
   "outputs": [
    {
     "name": "stdout",
     "output_type": "stream",
     "text": [
      "Enter x: 2\n",
      "Enter y: 3\n",
      "8\n"
     ]
    }
   ],
   "source": [
    "x=int(input(\"Enter x: \"))\n",
    "y=int(input(\"Enter y: \"))\n",
    "r=1\n",
    "for i in range(y):\n",
    "    temp=x\n",
    "    r=r*temp\n",
    "print(r)\n",
    "    "
   ]
  },
  {
   "cell_type": "markdown",
   "metadata": {},
   "source": [
    "### 04) WAP to check whether the given number is perfect or not.\n",
    "[Sum of factors including 1 excluding number itself]"
   ]
  },
  {
   "cell_type": "code",
   "execution_count": 7,
   "metadata": {},
   "outputs": [
    {
     "name": "stdout",
     "output_type": "stream",
     "text": [
      "Enter n: 6\n",
      "Pefect Number\n"
     ]
    }
   ],
   "source": [
    "n=int(input(\"Enter n: \"))\n",
    "sum1=0\n",
    "for i in range(1,n):\n",
    "    if (n%i==0):\n",
    "        sum1=sum1+i\n",
    "if sum1==n:\n",
    "    print(\"Pefect Number\")\n",
    "else:\n",
    "    print(\"Not a perfect number\")\n",
    "        "
   ]
  },
  {
   "cell_type": "markdown",
   "metadata": {},
   "source": [
    "### 05) WAP to find the sum of 1 + (1+2) + (1+2+3) + (1+2+3+4)+...+(1+2+3+4+....+n)"
   ]
  },
  {
   "cell_type": "code",
   "execution_count": 10,
   "metadata": {},
   "outputs": [
    {
     "name": "stdout",
     "output_type": "stream",
     "text": [
      "Enter n: 10\n",
      "220.0\n"
     ]
    }
   ],
   "source": [
    "n = int(input(\"Enter n: \"))\n",
    "sum = n*(n+1)*(2*n+4)/12\n",
    "print(sum)"
   ]
  },
  {
   "cell_type": "markdown",
   "metadata": {},
   "source": [
    "### 06) WAP to print Multiplication Table up to n"
   ]
  },
  {
   "cell_type": "code",
   "execution_count": 18,
   "metadata": {},
   "outputs": [
    {
     "name": "stdout",
     "output_type": "stream",
     "text": [
      "Enter number: 5\n",
      "Enter n: 10\n",
      "5 * 1 = 5\n",
      "5 * 2 = 10\n",
      "5 * 3 = 15\n",
      "5 * 4 = 20\n",
      "5 * 5 = 25\n",
      "5 * 6 = 30\n",
      "5 * 7 = 35\n",
      "5 * 8 = 40\n",
      "5 * 9 = 45\n",
      "5 * 10 = 50\n"
     ]
    }
   ],
   "source": [
    "num=int(input(\"Enter number: \"))\n",
    "n = int(input(\"Enter n: \"))\n",
    "for i in range(1,n+1):\n",
    "    print(\"%d * %d = %d\" %(num,i,num*i))"
   ]
  }
 ],
 "metadata": {
  "kernelspec": {
   "display_name": "Python 3 (ipykernel)",
   "language": "python",
   "name": "python3"
  },
  "language_info": {
   "codemirror_mode": {
    "name": "ipython",
    "version": 3
   },
   "file_extension": ".py",
   "mimetype": "text/x-python",
   "name": "python",
   "nbconvert_exporter": "python",
   "pygments_lexer": "ipython3",
   "version": "3.9.13"
  }
 },
 "nbformat": 4,
 "nbformat_minor": 4
}
