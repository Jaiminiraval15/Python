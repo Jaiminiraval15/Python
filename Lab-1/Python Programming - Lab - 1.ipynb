{
 "cells": [
  {
   "cell_type": "markdown",
   "metadata": {},
   "source": [
    "<a href='https://www.darshan.ac.in/'> <img src='https://www.darshan.ac.in/Content/media/DU_Logo.svg' width=\"250\" height=\"300\"/></a>\n",
    "<pre>\n",
    "<center><b><h1>Python Programming - 2101CS405</b></center>\n",
    "<center><b><h1>Lab - 1</b></center>    \n",
    "<pre>"
   ]
  },
  {
   "cell_type": "markdown",
   "metadata": {},
   "source": [
    "### 01) WAP to print “Hello World”"
   ]
  },
  {
   "cell_type": "code",
   "execution_count": 1,
   "metadata": {},
   "outputs": [
    {
     "name": "stdout",
     "output_type": "stream",
     "text": [
      "HelloWorld\n"
     ]
    }
   ],
   "source": [
    "print(\"HelloWorld\")"
   ]
  },
  {
   "cell_type": "markdown",
   "metadata": {},
   "source": [
    "### 02) WAP to print your address i) using single print ii) using multiple print"
   ]
  },
  {
   "cell_type": "code",
   "execution_count": 1,
   "metadata": {},
   "outputs": [
    {
     "name": "stdout",
     "output_type": "stream",
     "text": [
      "Darshan-University,Rajkot\n"
     ]
    }
   ],
   "source": [
    "print(\"Darshan-University,Rajkot\")"
   ]
  },
  {
   "cell_type": "code",
   "execution_count": 2,
   "metadata": {},
   "outputs": [
    {
     "name": "stdout",
     "output_type": "stream",
     "text": [
      "Darshan-University\n",
      "Rajkot\n"
     ]
    }
   ],
   "source": [
    "print(\"Darshan-University\")\n",
    "print(\"Rajkot\")"
   ]
  },
  {
   "cell_type": "markdown",
   "metadata": {},
   "source": [
    "### 03) WAP to print addition of 2 numbers (without input function)"
   ]
  },
  {
   "cell_type": "code",
   "execution_count": 11,
   "metadata": {},
   "outputs": [
    {
     "name": "stdout",
     "output_type": "stream",
     "text": [
      "Answer is 30\n"
     ]
    }
   ],
   "source": [
    "a=10\n",
    "b=20\n",
    "ans=a+b;\n",
    "print(\"Answer is \"+str(ans))"
   ]
  },
  {
   "cell_type": "markdown",
   "metadata": {},
   "source": [
    "### 04) WAP to calculate and print average of 2 numbers (without input function)"
   ]
  },
  {
   "cell_type": "code",
   "execution_count": 13,
   "metadata": {},
   "outputs": [
    {
     "name": "stdout",
     "output_type": "stream",
     "text": [
      "Answer is 25.0\n"
     ]
    }
   ],
   "source": [
    "a=20 \n",
    "b=30\n",
    "avg=(a+b)/2\n",
    "print(\"Answer is \"+str(avg))\n"
   ]
  },
  {
   "cell_type": "markdown",
   "metadata": {},
   "source": [
    "### 05) WAP to add two number entered by user."
   ]
  },
  {
   "cell_type": "code",
   "execution_count": 16,
   "metadata": {},
   "outputs": [
    {
     "name": "stdout",
     "output_type": "stream",
     "text": [
      "Enter first number: 4\n",
      "Enter second number: 6\n",
      "Addition is 10\n"
     ]
    }
   ],
   "source": [
    "a=int(input(\"Enter first number: \"))\n",
    "b=int(input(\"Enter second number: \"))\n",
    "print(\"Addition is \"+str(a+b))"
   ]
  },
  {
   "cell_type": "markdown",
   "metadata": {},
   "source": [
    "### 06) WAP to calculate simple interest."
   ]
  },
  {
   "cell_type": "code",
   "execution_count": 18,
   "metadata": {},
   "outputs": [
    {
     "name": "stdout",
     "output_type": "stream",
     "text": [
      "Enter principal amount: 5000\n",
      "Enter rate of interest: 5\n",
      "Enter time period: 5\n",
      "Simple interest is 1250.0\n"
     ]
    }
   ],
   "source": [
    "p=int(input(\"Enter principal amount: \"))\n",
    "r=int(input(\"Enter rate of interest: \"))\n",
    "n=int(input(\"Enter time period: \"))\n",
    "print(\"Simple interest is \"+str((p*r*n)/100))"
   ]
  },
  {
   "cell_type": "markdown",
   "metadata": {},
   "source": [
    "### 07) WAP Calculate Area and Circumfrence of Circle"
   ]
  },
  {
   "cell_type": "code",
   "execution_count": 2,
   "metadata": {},
   "outputs": [
    {
     "name": "stdout",
     "output_type": "stream",
     "text": [
      "Enter radius: 4\n",
      "Area of circle is: 50.24\n",
      "Circumference of circle is: 25.12\n"
     ]
    }
   ],
   "source": [
    "r=int(input(\"Enter radius: \"))\n",
    "print(\"Area of circle is: \"+str(3.14*r*r))\n",
    "print(\"Circumference of circle is: \"+str(2*3.14*r))"
   ]
  },
  {
   "cell_type": "markdown",
   "metadata": {},
   "source": [
    "### 08) WAP to print Multiplication table of given number without using loops."
   ]
  },
  {
   "cell_type": "code",
   "execution_count": 46,
   "metadata": {},
   "outputs": [
    {
     "name": "stdout",
     "output_type": "stream",
     "text": [
      "Enter a number: 4\n",
      "4 * 1 = 4\n",
      "4 * 2 = 8\n",
      "4 * 3 = 12\n",
      "4 * 4 = 16\n",
      "4 * 5 = 20\n"
     ]
    }
   ],
   "source": [
    "n=int(input(\"Enter a number: \"))\n",
    "print(str(n) + \" * 1 = \"+str(n*1))\n",
    "print(str(n) + \" * 2 = \"+str(n*2))\n",
    "print(str(n) + \" * 3 = \"+str(n*3))\n",
    "print(str(n) + \" * 4 = \"+str(n*4))\n",
    "print(str(n) + \" * 5 = \"+str(n*5))"
   ]
  },
  {
   "cell_type": "markdown",
   "metadata": {},
   "source": [
    "### 09) WAP to calculate Area of Triangle (hint: a = h * b * 0.5)"
   ]
  },
  {
   "cell_type": "code",
   "execution_count": 47,
   "metadata": {},
   "outputs": [
    {
     "name": "stdout",
     "output_type": "stream",
     "text": [
      "Enter height: 5\n",
      "Enter base: 6\n",
      "Area of triangle is: 15.0\n"
     ]
    }
   ],
   "source": [
    "h=int(input(\"Enter height: \"))\n",
    "b=int(input(\"Enter base: \"))\n",
    "print(\"Area of triangle is: \"+str(0.5*h*b))"
   ]
  },
  {
   "cell_type": "markdown",
   "metadata": {},
   "source": [
    "### 10) WAP to convert degree to Fahrenheit and vice versa."
   ]
  },
  {
   "cell_type": "code",
   "execution_count": 52,
   "metadata": {},
   "outputs": [
    {
     "name": "stdout",
     "output_type": "stream",
     "text": [
      "Enter temperature in faranheit: -459\n",
      "Temperature is -272.77777777777777 degree C\n"
     ]
    }
   ],
   "source": [
    "f=int(input(\"Enter temperature in faranheit: \"))\n",
    "print(\"Temperature is \"+str((f-32)*5/9 )+\" degree C\")"
   ]
  },
  {
   "cell_type": "code",
   "execution_count": 54,
   "metadata": {},
   "outputs": [
    {
     "name": "stdout",
     "output_type": "stream",
     "text": [
      "Enter temperature in celcius: 26\n",
      "Temperature is 78.8degree F\n"
     ]
    }
   ],
   "source": [
    "c=int(input(\"Enter temperature in celcius: \"))\n",
    "print(\"Temperature is \"+str((c*9/5)+32)+ \"degree F\")"
   ]
  },
  {
   "cell_type": "markdown",
   "metadata": {},
   "source": [
    "### 11) WAP to calculate total marks and Percentage."
   ]
  },
  {
   "cell_type": "code",
   "execution_count": 58,
   "metadata": {},
   "outputs": [
    {
     "name": "stdout",
     "output_type": "stream",
     "text": [
      "Enter marks of subject 1: 80\n",
      "Enter marks of subject 2: 75\n",
      "Enter marks of subject 3: 90\n",
      "Total marks are: 245\n",
      "Percentage score: 81.66666666666667\n"
     ]
    }
   ],
   "source": [
    "sub1=int(input(\"Enter marks of subject 1: \"))\n",
    "sub2=int(input(\"Enter marks of subject 2: \"))\n",
    "sub3=int(input(\"Enter marks of subject 3: \"))\n",
    "print(\"Total marks are: \"+str(sub1+sub2+sub3))\n",
    "print(\"Percentage score: \"+str((sub1+sub2+sub3)/3))"
   ]
  },
  {
   "cell_type": "markdown",
   "metadata": {},
   "source": [
    "### 12) Compute distance between two points taking input from the user (Pythagorean Theorem)."
   ]
  },
  {
   "cell_type": "code",
   "execution_count": 67,
   "metadata": {},
   "outputs": [
    {
     "name": "stdout",
     "output_type": "stream",
     "text": [
      "Enter perpendicular: 6\n",
      "Enter base: 8\n",
      "Hypotenuse is: 10.0\n"
     ]
    }
   ],
   "source": [
    "a=int(input(\"Enter perpendicular: \"))\n",
    "b=int(input(\"Enter base: \"))\n",
    "ans=(a*a+b*b)**(1/2)\n",
    "print(\"Hypotenuse is: \"+str((ans)))"
   ]
  },
  {
   "cell_type": "markdown",
   "metadata": {},
   "source": [
    "### 13) WAP to convert seconds into hours, minutes & seconds and print in HH:MM:SS\n",
    "[e.g. 10000 seconds mean 2:46:40 (2 Hours, 46 Minutes, 40Seconds)]"
   ]
  },
  {
   "cell_type": "code",
   "execution_count": 68,
   "metadata": {},
   "outputs": [
    {
     "name": "stdout",
     "output_type": "stream",
     "text": [
      "Enter seconds: 900\n",
      "Time is 0.25:15.0:900\n"
     ]
    }
   ],
   "source": [
    "s=int(input(\"Enter seconds: \"))\n",
    "h=s/3600\n",
    "m=s/60\n",
    "print(\"Time is \"+str(h)+\":\"+str(m)+\":\"+str(s))"
   ]
  },
  {
   "cell_type": "markdown",
   "metadata": {},
   "source": [
    "### 14) WAP to enter distance into kilometer and convert it into meter, feet,inches, and centimeter"
   ]
  },
  {
   "cell_type": "code",
   "execution_count": 71,
   "metadata": {},
   "outputs": [
    {
     "name": "stdout",
     "output_type": "stream",
     "text": [
      "Enter distance in Kms: 1\n",
      "Distance is 1000m 3280.84ft 39370.08in 100000cm\n"
     ]
    }
   ],
   "source": [
    "km=int(input(\"Enter distance in Kms: \"))\n",
    "m=1000*km\n",
    "ft=3280.84*km\n",
    "inch=39370.08*km\n",
    "cm=100000*km\n",
    "print(\"Distance is \"+str(m)+\"m \"+str(ft)+\"ft \"+str(inch)+\"in \"+str(cm)+\"cm\")"
   ]
  }
 ],
 "metadata": {
  "kernelspec": {
   "display_name": "Python 3 (ipykernel)",
   "language": "python",
   "name": "python3"
  },
  "language_info": {
   "codemirror_mode": {
    "name": "ipython",
    "version": 3
   },
   "file_extension": ".py",
   "mimetype": "text/x-python",
   "name": "python",
   "nbconvert_exporter": "python",
   "pygments_lexer": "ipython3",
   "version": "3.9.13"
  }
 },
 "nbformat": 4,
 "nbformat_minor": 4
}
